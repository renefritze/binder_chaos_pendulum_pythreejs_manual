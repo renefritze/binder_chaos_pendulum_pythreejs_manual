{
 "cells": [
  {
   "cell_type": "markdown",
   "metadata": {},
   "source": [
    "# Introduction\n",
    "\n",
    "This example gives a simple demostration of chaotic behavior in a simple two body system. The system is made up of a slender rod that is connected to the ceiling at one end with a revolute joint that rotates about the $\\hat{\\mathbf{n}}_y$ unit vector. At the other end of the rod a flat plate is attached via a second revolute joint allowing the plate to rotate about the rod's axis with aligns with the $\\hat{\\mathbf{a}_z}$ unit vector.\n",
    "\n",
    "![](chaos_pendulum.svg)"
   ]
  },
  {
   "cell_type": "markdown",
   "metadata": {},
   "source": [
    "# Setup"
   ]
  },
  {
   "cell_type": "code",
   "execution_count": 1,
   "metadata": {},
   "outputs": [],
   "source": [
    "import numpy as np\n",
    "import matplotlib.pyplot as plt\n",
    "import sympy as sm\n",
    "import sympy.physics.mechanics as me\n",
    "from pydy.system import System\n",
    "from pydy.viz import Cylinder, Plane, VisualizationFrame, Scene\n",
    "import pythreejs as pjs"
   ]
  },
  {
   "cell_type": "code",
   "execution_count": 2,
   "metadata": {},
   "outputs": [],
   "source": [
    "me.init_vprinting()"
   ]
  },
  {
   "cell_type": "markdown",
   "metadata": {},
   "source": [
    "# Define Variables\n",
    "\n",
    "First define the system constants:\n",
    "\n",
    "- $m_A$: Mass of the slender rod.\n",
    "- $m_B$: Mass of the plate.\n",
    "- $l_B$: Distance from $N_o$ to $B_o$ along the slender rod's axis.\n",
    "- $w$: The width of the plate.\n",
    "- $h$: The height of the plate.\n",
    "- $g$: The acceleratoin due to gravity."
   ]
  },
  {
   "cell_type": "code",
   "execution_count": 3,
   "metadata": {},
   "outputs": [],
   "source": [
    "mA, mB, lB, w, h, g = sm.symbols('m_A, m_B, L_B, w, h, g')"
   ]
  },
  {
   "cell_type": "markdown",
   "metadata": {},
   "source": [
    "There are two time varying generalized coordinates:\n",
    "\n",
    "- $\\theta(t)$: The angle of the slender rod with respect to the ceiling.\n",
    "- $\\phi(t)$: The angle of the plate with respect to the slender rod.\n",
    "\n",
    "The two generalized speeds will then be defined as:\n",
    "\n",
    "- $\\omega(t)=\\dot{\\theta}$: The angular rate of the slender rod with respect to the ceiling.\n",
    "- $\\alpha(t)=\\dot{\\phi}$: The angluer rate of the plate with respect to the slender rod."
   ]
  },
  {
   "cell_type": "code",
   "execution_count": 4,
   "metadata": {},
   "outputs": [],
   "source": [
    "theta, phi = me.dynamicsymbols('theta, phi')\n",
    "omega, alpha = me.dynamicsymbols('omega, alpha')"
   ]
  },
  {
   "cell_type": "markdown",
   "metadata": {},
   "source": [
    "The kinematical differential equations are defined in this fashion for the `KanesMethod` class:\n",
    "\n",
    "$$0 = \\omega - \\dot{\\theta}\\\\\n",
    "0 = \\alpha - \\dot{\\phi}$$"
   ]
  },
  {
   "cell_type": "code",
   "execution_count": 5,
   "metadata": {
    "collapsed": false,
    "jupyter": {
     "outputs_hidden": false
    }
   },
   "outputs": [
    {
     "data": {
      "image/png": "[encoded data removed]",
      "text/latex": [
       "$\\displaystyle \\left( \\omega - \\dot{\\theta}, \\  \\alpha - \\dot{\\phi}\\right)$"
      ],
      "text/plain": [
       "(ω - θ̇, α - φ̇)"
      ]
     },
     "execution_count": 5,
     "metadata": {},
     "output_type": "execute_result"
    }
   ],
   "source": [
    "kin_diff = (omega - theta.diff(), alpha - phi.diff())\n",
    "kin_diff"
   ]
  },
  {
   "cell_type": "markdown",
   "metadata": {},
   "source": [
    "# Define Orientations\n",
    "\n",
    "There are three reference frames. These are defined as such:"
   ]
  },
  {
   "cell_type": "code",
   "execution_count": 6,
   "metadata": {},
   "outputs": [],
   "source": [
    "N = me.ReferenceFrame('N')\n",
    "A = me.ReferenceFrame('A')\n",
    "B = me.ReferenceFrame('B')"
   ]
  },
  {
   "cell_type": "markdown",
   "metadata": {},
   "source": [
    "The frames are oriented with respect to each other by simple revolute rotations. The following lines set the orientations:"
   ]
  },
  {
   "cell_type": "code",
   "execution_count": 7,
   "metadata": {},
   "outputs": [],
   "source": [
    "A.orient(N, 'Axis', (theta, N.y))\n",
    "B.orient(A, 'Axis', (phi, A.z))"
   ]
  },
  {
   "cell_type": "markdown",
   "metadata": {},
   "source": [
    "# Define Positions\n",
    "\n",
    "Three points are necessary to define the problem:\n",
    "\n",
    "- $N_o$: The fixed point which the slender rod rotates about.\n",
    "- $A_o$: The center of mass of the slender rod.\n",
    "- $B_o$: The center of mass of the plate."
   ]
  },
  {
   "cell_type": "code",
   "execution_count": 8,
   "metadata": {},
   "outputs": [],
   "source": [
    "No = me.Point('No')\n",
    "Ao = me.Point('Ao')\n",
    "Bo = me.Point('Bo')"
   ]
  },
  {
   "cell_type": "markdown",
   "metadata": {},
   "source": [
    "The two centers of mass positions can be set relative to the fixed point, $N_o$."
   ]
  },
  {
   "cell_type": "code",
   "execution_count": 9,
   "metadata": {
    "collapsed": false,
    "jupyter": {
     "outputs_hidden": false
    }
   },
   "outputs": [],
   "source": [
    "lA = (lB - h / 2) / 2\n",
    "Ao.set_pos(No, lA * A.z)\n",
    "Bo.set_pos(No, lB * A.z)"
   ]
  },
  {
   "cell_type": "markdown",
   "metadata": {},
   "source": [
    "# Specify the Velocities\n",
    "\n",
    "The generalized speeds should be used in the definition of the linear and angular velocities when using Kane's method. For simple rotations and the defined kinematical differential equations the angular rates are:"
   ]
  },
  {
   "cell_type": "code",
   "execution_count": 10,
   "metadata": {},
   "outputs": [],
   "source": [
    "A.set_ang_vel(N, omega * N.y)\n",
    "B.set_ang_vel(A, alpha * A.z)"
   ]
  },
  {
   "cell_type": "markdown",
   "metadata": {},
   "source": [
    "Once the angular velocities are specified the linear velocities can be computed using the two point velocity thereom, starting with the origin point having a velocity of zero."
   ]
  },
  {
   "cell_type": "code",
   "execution_count": 11,
   "metadata": {},
   "outputs": [],
   "source": [
    "No.set_vel(N, 0)"
   ]
  },
  {
   "cell_type": "code",
   "execution_count": 12,
   "metadata": {
    "collapsed": false,
    "jupyter": {
     "outputs_hidden": false
    }
   },
   "outputs": [
    {
     "data": {
      "image/png": "[encoded data removed]",
      "text/latex": [
       "$\\displaystyle \\left(\\frac{L_{B}}{2} - \\frac{h}{4}\\right) \\omega\\mathbf{\\hat{a}_x}$"
      ],
      "text/plain": [
       "⎛L_B   h⎞\n",
       "⎜─── - ─⎟⋅ω a_x\n",
       "⎝ 2    4⎠"
      ]
     },
     "execution_count": 12,
     "metadata": {},
     "output_type": "execute_result"
    }
   ],
   "source": [
    "Ao.v2pt_theory(No, N, A)"
   ]
  },
  {
   "cell_type": "code",
   "execution_count": 13,
   "metadata": {
    "collapsed": false,
    "jupyter": {
     "outputs_hidden": false
    }
   },
   "outputs": [
    {
     "data": {
      "image/png": "[encoded data removed]",
      "text/latex": [
       "$\\displaystyle L_{B} \\omega\\mathbf{\\hat{a}_x}$"
      ],
      "text/plain": [
       "L_B⋅ω a_x"
      ]
     },
     "execution_count": 13,
     "metadata": {},
     "output_type": "execute_result"
    }
   ],
   "source": [
    "Bo.v2pt_theory(No, N, A)"
   ]
  },
  {
   "cell_type": "markdown",
   "metadata": {},
   "source": [
    "# Inertia\n",
    "\n",
    "The central inertia of the symmetric slender rod with respect to its reference frame is a function of its length and its mass."
   ]
  },
  {
   "cell_type": "code",
   "execution_count": 14,
   "metadata": {},
   "outputs": [],
   "source": [
    "IAxx = sm.S(1) / 12 * mA * (2 * lA)**2\n",
    "IAyy = IAxx\n",
    "IAzz = 0\n",
    "\n",
    "IA = (me.inertia(A, IAxx, IAyy, IAzz), Ao)"
   ]
  },
  {
   "cell_type": "markdown",
   "metadata": {},
   "source": [
    "This gives the inertia tensor:"
   ]
  },
  {
   "cell_type": "code",
   "execution_count": 15,
   "metadata": {
    "collapsed": false,
    "jupyter": {
     "outputs_hidden": false
    }
   },
   "outputs": [
    {
     "data": {
      "text/latex": [
       "$\\displaystyle \\left[\\begin{matrix}\\frac{m_{A} \\left(L_{B} - \\frac{h}{2}\\right)^{2}}{12} & 0 & 0\\\\0 & \\frac{m_{A} \\left(L_{B} - \\frac{h}{2}\\right)^{2}}{12} & 0\\\\0 & 0 & 0\\end{matrix}\\right]$"
      ],
      "text/plain": [
       "⎡             2                   ⎤\n",
       "⎢    ⎛      h⎞                    ⎥\n",
       "⎢m_A⋅⎜L_B - ─⎟                    ⎥\n",
       "⎢    ⎝      2⎠                    ⎥\n",
       "⎢──────────────        0         0⎥\n",
       "⎢      12                         ⎥\n",
       "⎢                                 ⎥\n",
       "⎢                             2   ⎥\n",
       "⎢                    ⎛      h⎞    ⎥\n",
       "⎢                m_A⋅⎜L_B - ─⎟    ⎥\n",
       "⎢                    ⎝      2⎠    ⎥\n",
       "⎢      0         ──────────────  0⎥\n",
       "⎢                      12         ⎥\n",
       "⎢                                 ⎥\n",
       "⎣      0               0         0⎦"
      ]
     },
     "execution_count": 15,
     "metadata": {},
     "output_type": "execute_result"
    }
   ],
   "source": [
    "IA[0].to_matrix(A)"
   ]
  },
  {
   "cell_type": "markdown",
   "metadata": {},
   "source": [
    "The central inerita of the symmetric plate with respect to its reference frame is a function of its width and height."
   ]
  },
  {
   "cell_type": "code",
   "execution_count": 16,
   "metadata": {},
   "outputs": [],
   "source": [
    "IBxx = sm.S(1)/12 * mB * h**2\n",
    "IByy = sm.S(1)/12 * mB * (w**2 + h**2)\n",
    "IBzz = sm.S(1)/12 * mB * w**2\n",
    "\n",
    "IB = (me.inertia(B, IBxx, IByy, IBzz), Bo)"
   ]
  },
  {
   "cell_type": "code",
   "execution_count": 17,
   "metadata": {
    "collapsed": false,
    "jupyter": {
     "outputs_hidden": false
    }
   },
   "outputs": [
    {
     "data": {
      "text/latex": [
       "$\\displaystyle \\left[\\begin{matrix}\\frac{h^{2} m_{B}}{12} & 0 & 0\\\\0 & \\frac{m_{B} \\left(h^{2} + w^{2}\\right)}{12} & 0\\\\0 & 0 & \\frac{m_{B} w^{2}}{12}\\end{matrix}\\right]$"
      ],
      "text/plain": [
       "⎡ 2                           ⎤\n",
       "⎢h ⋅m_B                       ⎥\n",
       "⎢──────        0          0   ⎥\n",
       "⎢  12                         ⎥\n",
       "⎢                             ⎥\n",
       "⎢            ⎛ 2    2⎞        ⎥\n",
       "⎢        m_B⋅⎝h  + w ⎠        ⎥\n",
       "⎢  0     ─────────────    0   ⎥\n",
       "⎢              12             ⎥\n",
       "⎢                             ⎥\n",
       "⎢                            2⎥\n",
       "⎢                       m_B⋅w ⎥\n",
       "⎢  0           0        ──────⎥\n",
       "⎣                         12  ⎦"
      ]
     },
     "execution_count": 17,
     "metadata": {},
     "output_type": "execute_result"
    }
   ],
   "source": [
    "IB[0].to_matrix(B)"
   ]
  },
  {
   "cell_type": "markdown",
   "metadata": {},
   "source": [
    "All of the information to define the two rigid bodies are now available. This information is used to create an object for the rod and the plate."
   ]
  },
  {
   "cell_type": "code",
   "execution_count": 18,
   "metadata": {},
   "outputs": [],
   "source": [
    "rod = me.RigidBody('rod', Ao, A, mA, IA)"
   ]
  },
  {
   "cell_type": "code",
   "execution_count": 19,
   "metadata": {},
   "outputs": [],
   "source": [
    "plate = me.RigidBody('plate', Bo, B, mB, IB)"
   ]
  },
  {
   "cell_type": "markdown",
   "metadata": {},
   "source": [
    "# Loads\n",
    "\n",
    "The only loads in this problem is the force due to gravity that acts on the center of mass of each body. These forces are specified with a tuple containing the point of application and the force vector."
   ]
  },
  {
   "cell_type": "code",
   "execution_count": 20,
   "metadata": {},
   "outputs": [],
   "source": [
    "rod_gravity = (Ao, mA * g * N.z)\n",
    "plate_gravity = (Bo, mB * g * N.z)"
   ]
  },
  {
   "cell_type": "markdown",
   "metadata": {},
   "source": [
    "# Equations of motion\n",
    "\n",
    "Now that the kinematics, kinetics, and inertia have all been defined the `KanesMethod` class can be used to generate the equations of motion of the system. In this case the independent generalized speeds, independent generalized speeds, the kinematical differential equations, and the inertial reference frame are used to initialize the class."
   ]
  },
  {
   "cell_type": "code",
   "execution_count": 21,
   "metadata": {},
   "outputs": [],
   "source": [
    "kane = me.KanesMethod(N, q_ind=(theta, phi), u_ind=(omega, alpha), kd_eqs=kin_diff)"
   ]
  },
  {
   "cell_type": "markdown",
   "metadata": {},
   "source": [
    "The equations of motion are then generated by passing in all of the loads and bodies to the `kanes_equations` method. This produces $f_r$ and $f_r^*$."
   ]
  },
  {
   "cell_type": "code",
   "execution_count": 22,
   "metadata": {
    "collapsed": false,
    "jupyter": {
     "outputs_hidden": false
    }
   },
   "outputs": [],
   "source": [
    "bodies = (rod, plate)\n",
    "loads = (rod_gravity, plate_gravity)\n",
    "\n",
    "fr, frstar = kane.kanes_equations(bodies, loads)"
   ]
  },
  {
   "cell_type": "code",
   "execution_count": 23,
   "metadata": {
    "collapsed": false,
    "jupyter": {
     "outputs_hidden": false
    }
   },
   "outputs": [
    {
     "data": {
      "text/latex": [
       "$\\displaystyle \\left[\\begin{matrix}g \\left(- \\frac{L_{B} m_{A}}{2} - L_{B} m_{B} + \\frac{h m_{A}}{4}\\right) \\operatorname{sin}\\left(\\theta\\right)\\\\0\\end{matrix}\\right]$"
      ],
      "text/plain": [
       "⎡  ⎛  L_B⋅m_A             h⋅m_A⎞       ⎤\n",
       "⎢g⋅⎜- ─────── - L_B⋅m_B + ─────⎟⋅sin(θ)⎥\n",
       "⎢  ⎝     2                  4  ⎠       ⎥\n",
       "⎢                                      ⎥\n",
       "⎣                  0                   ⎦"
      ]
     },
     "execution_count": 23,
     "metadata": {},
     "output_type": "execute_result"
    }
   ],
   "source": [
    "sm.trigsimp(fr)"
   ]
  },
  {
   "cell_type": "code",
   "execution_count": 24,
   "metadata": {
    "collapsed": false,
    "jupyter": {
     "outputs_hidden": false
    }
   },
   "outputs": [
    {
     "data": {
      "text/latex": [
       "$\\displaystyle \\left[\\begin{matrix}\\frac{m_{B} w^{2} \\alpha \\omega \\operatorname{sin}\\left(2 \\phi\\right)}{12} - \\left(\\frac{L_{B}^{2} m_{A}}{3} + L_{B}^{2} m_{B} - \\frac{L_{B} h m_{A}}{3} + \\frac{h^{2} m_{A}}{12} + \\frac{h^{2} m_{B}}{12} + \\frac{m_{B} w^{2} \\operatorname{cos}^{2}\\left(\\phi\\right)}{12}\\right) \\dot{\\omega}\\\\- \\frac{m_{B} w^{2} \\left(\\omega^{2} \\operatorname{sin}\\left(2 \\phi\\right) + 2 \\dot{\\alpha}\\right)}{24}\\end{matrix}\\right]$"
      ],
      "text/plain": [
       "⎡     2                ⎛   2                               2        2         \n",
       "⎢m_B⋅w ⋅α⋅ω⋅sin(2⋅φ)   ⎜L_B ⋅m_A      2       L_B⋅h⋅m_A   h ⋅m_A   h ⋅m_B   m_\n",
       "⎢─────────────────── - ⎜──────── + L_B ⋅m_B - ───────── + ────── + ────── + ──\n",
       "⎢         12           ⎝   3                      3         12       12       \n",
       "⎢                                                                             \n",
       "⎢                                      2 ⎛ 2                ⎞                 \n",
       "⎢                                -m_B⋅w ⋅⎝ω ⋅sin(2⋅φ) + 2⋅α̇⎠                 \n",
       "⎢                                ─────────────────────────────                \n",
       "⎣                                              24                             \n",
       "\n",
       "   2    2   ⎞   ⎤\n",
       "B⋅w ⋅cos (φ)⎟   ⎥\n",
       "────────────⎟⋅ω̇⎥\n",
       "    12      ⎠   ⎥\n",
       "                ⎥\n",
       "                ⎥\n",
       "                ⎥\n",
       "                ⎥\n",
       "                ⎦"
      ]
     },
     "execution_count": 24,
     "metadata": {},
     "output_type": "execute_result"
    }
   ],
   "source": [
    "sm.trigsimp(frstar)"
   ]
  },
  {
   "cell_type": "markdown",
   "metadata": {},
   "source": [
    "# Simulation\n",
    "\n",
    "The equations of motion can now be simulated numerically. Values for the constants, initial conditions, and time are provided to the `System` class along with the symbolic `KanesMethod` object."
   ]
  },
  {
   "cell_type": "code",
   "execution_count": 25,
   "metadata": {},
   "outputs": [],
   "source": [
    "sys = System(kane)"
   ]
  },
  {
   "cell_type": "code",
   "execution_count": 26,
   "metadata": {},
   "outputs": [],
   "source": [
    "sys.constants = {lB: 0.2, # meters\n",
    "                 h: 0.1, # meters\n",
    "                 w: 0.2, # meters\n",
    "                 mA: 0.01, # kilograms\n",
    "                 mB: 0.1, # kilograms\n",
    "                 g: 9.81} # meters per second squared"
   ]
  },
  {
   "cell_type": "code",
   "execution_count": 27,
   "metadata": {},
   "outputs": [],
   "source": [
    "sys.initial_conditions = {theta: np.deg2rad(45),\n",
    "                          phi: np.deg2rad(0.5),\n",
    "                          omega: 0,\n",
    "                          alpha: 0}"
   ]
  },
  {
   "cell_type": "code",
   "execution_count": 28,
   "metadata": {},
   "outputs": [],
   "source": [
    "sys.times = np.linspace(0, 10, 500)"
   ]
  },
  {
   "cell_type": "markdown",
   "metadata": {},
   "source": [
    "The trajectories of the states are found with the `integrate` method."
   ]
  },
  {
   "cell_type": "code",
   "execution_count": 29,
   "metadata": {},
   "outputs": [],
   "source": [
    "x = sys.integrate()"
   ]
  },
  {
   "cell_type": "markdown",
   "metadata": {},
   "source": [
    "The angles can be plotted to see how they change with respect to time given the initial conditions."
   ]
  },
  {
   "cell_type": "code",
   "execution_count": 30,
   "metadata": {
    "collapsed": false,
    "jupyter": {
     "outputs_hidden": false
    }
   },
   "outputs": [
    {
     "data": {
      "image/png": "[encoded data removed]",
      "text/plain": [
       "<Figure size 432x288 with 1 Axes>"
      ]
     },
     "metadata": {
      "needs_background": "light"
     },
     "output_type": "display_data"
    }
   ],
   "source": [
    "def plot():\n",
    "    plt.figure()\n",
    "    plt.plot(sys.times, np.rad2deg(x[:, :2]))\n",
    "    plt.legend([sm.latex(s, mode='inline') for s in sys.coordinates])\n",
    "plot()"
   ]
  },
  {
   "cell_type": "markdown",
   "metadata": {},
   "source": [
    "# Chaotic Behavior\n",
    "\n",
    "Now change the intial condition of the plat angle just slighty to see if the behvior of the system is similar."
   ]
  },
  {
   "cell_type": "code",
   "execution_count": 31,
   "metadata": {
    "collapsed": false,
    "jupyter": {
     "outputs_hidden": false
    }
   },
   "outputs": [
    {
     "data": {
      "image/png": "[encoded data removed]",
      "text/plain": [
       "<Figure size 432x288 with 1 Axes>"
      ]
     },
     "metadata": {
      "needs_background": "light"
     },
     "output_type": "display_data"
    }
   ],
   "source": [
    "sys.initial_conditions[phi] = np.deg2rad(1.0)\n",
    "x = sys.integrate()\n",
    "plot()  "
   ]
  },
  {
   "cell_type": "markdown",
   "metadata": {},
   "source": [
    "Seems all good, very similar behavior. But now set the rod angle to $90^\\circ$ and try the same slight change in plate angle."
   ]
  },
  {
   "cell_type": "code",
   "execution_count": 32,
   "metadata": {
    "collapsed": false,
    "jupyter": {
     "outputs_hidden": false
    }
   },
   "outputs": [
    {
     "data": {
      "image/png": "[encoded data removed]",
      "text/plain": [
       "<Figure size 432x288 with 1 Axes>"
      ]
     },
     "metadata": {
      "needs_background": "light"
     },
     "output_type": "display_data"
    }
   ],
   "source": [
    "sys.initial_conditions[theta] = np.deg2rad(90)\n",
    "sys.initial_conditions[phi] = np.deg2rad(0.5)\n",
    "x = sys.integrate()\n",
    "plot()"
   ]
  },
  {
   "cell_type": "markdown",
   "metadata": {},
   "source": [
    "First note that the plate behaves wildly. What happens when the initial plate angle is altered slightly."
   ]
  },
  {
   "cell_type": "code",
   "execution_count": 33,
   "metadata": {
    "collapsed": false,
    "jupyter": {
     "outputs_hidden": false
    }
   },
   "outputs": [
    {
     "data": {
      "image/png": "[encoded data removed]",
      "text/plain": [
       "<Figure size 432x288 with 1 Axes>"
      ]
     },
     "metadata": {
      "needs_background": "light"
     },
     "output_type": "display_data"
    }
   ],
   "source": [
    "sys.initial_conditions[phi] = np.deg2rad(1.0)\n",
    "x = sys.integrate()\n",
    "plot()"
   ]
  },
  {
   "cell_type": "markdown",
   "metadata": {},
   "source": [
    "The behavior does not look similar to the previous simulation. This is an example of chaotic behavior. The plate angle can not be reliably predicted because slight changes in the initial conditions cause the behavior of the system to vary widely."
   ]
  },
  {
   "cell_type": "markdown",
   "metadata": {},
   "source": [
    "# Visualization\n",
    "\n",
    "Finally, the system can be animated by attached a cylinder and a plane shape to the rigid bodies. To properly align the coordinate axes of the shapes with the bodies, simple rotations are used."
   ]
  },
  {
   "cell_type": "code",
   "execution_count": 34,
   "metadata": {
    "collapsed": false,
    "jupyter": {
     "outputs_hidden": false
    }
   },
   "outputs": [],
   "source": [
    "rod_shape = Cylinder(2 * lA, 0.005, color='red')\n",
    "plate_shape = Plane(h, w, color='blue')\n",
    "\n",
    "v1 = VisualizationFrame('rod',\n",
    "                        A.orientnew('rod', 'Axis', (sm.pi / 2, A.x)),\n",
    "                        Ao,\n",
    "                        rod_shape)\n",
    "\n",
    "v2 = VisualizationFrame('plate',\n",
    "                        B.orientnew('plate', 'Body', (sm.pi / 2, sm.pi / 2, 0), 'XZX'),\n",
    "                        Bo,\n",
    "                        plate_shape)\n",
    "\n",
    "scene = Scene(N, No, v1, v2, system=sys)"
   ]
  },
  {
   "cell_type": "markdown",
   "metadata": {},
   "source": [
    "`create_static_html()` is a quick way to generate all of the data needed for pythreejs."
   ]
  },
  {
   "cell_type": "code",
   "execution_count": 35,
   "metadata": {},
   "outputs": [],
   "source": [
    "scene.create_static_html(overwrite=True, silent=True)"
   ]
  },
  {
   "cell_type": "markdown",
   "metadata": {},
   "source": [
    "For each visualizaion frame, the 4x4 transform matrices are obtained with:"
   ]
  },
  {
   "cell_type": "code",
   "execution_count": 36,
   "metadata": {},
   "outputs": [],
   "source": [
    "rod_matrices = v1.evaluate_transformation_matrix(x, list(sys.constants.values()))\n",
    "plate_matrices = v2.evaluate_transformation_matrix(x, list(sys.constants.values()))"
   ]
  },
  {
   "cell_type": "markdown",
   "metadata": {},
   "source": [
    "Recreate the meshes in the animation with pythreejs. Make sure to use numbers, not symbols. Also, you need to uniquely name each mesh."
   ]
  },
  {
   "cell_type": "code",
   "execution_count": 37,
   "metadata": {},
   "outputs": [],
   "source": [
    "rod_mesh = pjs.Mesh(\n",
    "    pjs.CylinderBufferGeometry(0.005, 0.005, sys.constants[lB] - sys.constants[h] / 2),\n",
    "    pjs.MeshStandardMaterial(color='red'),\n",
    "    name='rod'\n",
    ")\n",
    "\n",
    "plate_mesh = pjs.Mesh(pjs.PlaneBufferGeometry(sys.constants[h], sys.constants[w]),\n",
    "                      pjs.MeshStandardMaterial(color='blue', side='DoubleSide')\n",
    "                     , name=\"plate\")\n",
    "\n",
    "ceil_mesh = pjs.Mesh(pjs.BoxBufferGeometry(0.3, 0.2, 0.02),\n",
    "                      pjs.MeshStandardMaterial(color='gray')\n",
    "                     , name=\"ceiling\")"
   ]
  },
  {
   "cell_type": "markdown",
   "metadata": {},
   "source": [
    "To set the three.js transform matrices directly the `matrixAutoUpdate` must be disabled."
   ]
  },
  {
   "cell_type": "code",
   "execution_count": 38,
   "metadata": {},
   "outputs": [],
   "source": [
    "# Animation will not update without this set.\n",
    "rod_mesh.matrixAutoUpdate = False\n",
    "plate_mesh.matrixAutoUpdate = False\n",
    "\n",
    "# Set initial position\n",
    "rod_mesh.matrix = rod_matrices[0]\n",
    "plate_mesh.matrix = plate_matrices[0]"
   ]
  },
  {
   "cell_type": "markdown",
   "metadata": {},
   "source": [
    "Setup the scene and the renderer."
   ]
  },
  {
   "cell_type": "code",
   "execution_count": 39,
   "metadata": {},
   "outputs": [],
   "source": [
    "view_width = 600\n",
    "view_height = 400\n",
    "camera = pjs.PerspectiveCamera(position=[0.25, 0.25, 0.25], aspect=view_width/view_height)\n",
    "key_light = pjs.DirectionalLight(position=[0, 10, 10])\n",
    "ambient_light = pjs.AmbientLight()\n",
    "scene_pjs = pjs.Scene(children=[rod_mesh, plate_mesh, ceil_mesh, camera, key_light, ambient_light])\n",
    "controller = pjs.OrbitControls(controlling=camera)\n",
    "renderer = pjs.Renderer(camera=camera, scene=scene_pjs, controls=[controller], width=view_width, height=view_height)"
   ]
  },
  {
   "cell_type": "markdown",
   "metadata": {},
   "source": [
    "Display the scene:"
   ]
  },
  {
   "cell_type": "code",
   "execution_count": 40,
   "metadata": {},
   "outputs": [
    {
     "data": {
      "application/vnd.jupyter.widget-view+json": {
       "model_id": "070fa5b77ad4470da7f3127f66024fc9",
       "version_major": 2,
       "version_minor": 0
      },
      "text/plain": [
       "Renderer(camera=PerspectiveCamera(aspect=1.5, position=(0.25, 0.25, 0.25), quaternion=(0.0, 0.0, 0.0, 1.0), sc…"
      ]
     },
     "metadata": {},
     "output_type": "display_data"
    }
   ],
   "source": [
    "renderer"
   ]
  },
  {
   "cell_type": "markdown",
   "metadata": {},
   "source": [
    "Create the key frame tracks. Make sure use `scene/<mesh name>.matrix` to access the sub component of the scene."
   ]
  },
  {
   "cell_type": "code",
   "execution_count": 41,
   "metadata": {},
   "outputs": [],
   "source": [
    "rod_track = pjs.VectorKeyframeTrack(name='scene/rod.matrix',\n",
    "                                    times=list(sys.times),\n",
    "                                    values=rod_matrices)\n",
    "plate_track = pjs.VectorKeyframeTrack(name='scene/plate.matrix',\n",
    "                                      times=list(sys.times),\n",
    "                                      values=plate_matrices)"
   ]
  },
  {
   "cell_type": "markdown",
   "metadata": {},
   "source": [
    "Create the animation:"
   ]
  },
  {
   "cell_type": "code",
   "execution_count": 42,
   "metadata": {},
   "outputs": [
    {
     "data": {
      "application/vnd.jupyter.widget-view+json": {
       "model_id": "376f5fac76a3404b81cfa7ab6bfcf150",
       "version_major": 2,
       "version_minor": 0
      },
      "text/plain": [
       "AnimationAction(clip=AnimationClip(duration=10.0, tracks=(VectorKeyframeTrack(name='scene/rod.matrix', times=a…"
      ]
     },
     "metadata": {},
     "output_type": "display_data"
    }
   ],
   "source": [
    "clip = pjs.AnimationClip(tracks=[rod_track, plate_track], duration=sys.times[-1])\n",
    "action = pjs.AnimationAction(pjs.AnimationMixer(scene_pjs), clip, scene_pjs)\n",
    "action"
   ]
  }
 ],
 "metadata": {
  "kernelspec": {
   "display_name": "Python 3",
   "language": "python",
   "name": "python3"
  },
  "language_info": {
   "codemirror_mode": {
    "name": "ipython",
    "version": 3
   },
   "file_extension": ".py",
   "mimetype": "text/x-python",
   "name": "python",
   "nbconvert_exporter": "python",
   "pygments_lexer": "ipython3",
   "version": "3.6.7"
  }
 },
 "nbformat": 4,
 "nbformat_minor": 4
}